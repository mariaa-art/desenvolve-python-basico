{
 "cells": [
  {
   "cell_type": "markdown",
   "id": "0d5035b5",
   "metadata": {},
   "source": [
    "# Tupla\n",
    "\n",
    "## Aula 8.2"
   ]
  },
  {
   "cell_type": "markdown",
   "id": "0bdece85",
   "metadata": {},
   "source": [
    "### Q1. \n",
    "\n",
    "Escreva uma função ```calcula_area_perimetro``` que recebe **apenas um parâmetro** ```dimensoes``` e calcula a área e o perímetro a partir das dimensões dadas. \n",
    "- ```dimensoes``` é uma tupla (largura, comprimento) com as dimensões de um terreno retangular\n",
    "- Sua função deve calcular e retornar as seguintes operações\n",
    "   - $area = largura \\times comprimento$\n",
    "   - $perimetro = 2\\times(largura + comprimento)$\n"
   ]
  },
  {
   "cell_type": "code",
   "execution_count": 1,
   "id": "0a258eba",
   "metadata": {},
   "outputs": [
    {
     "name": "stdout",
     "output_type": "stream",
     "text": [
      "A área e o perímetro são, respectivamente: (35, 24)\n",
      "O tipo do objeto de retorno é: <class 'tuple'>\n"
     ]
    }
   ],
   "source": [
    "def calcula_area_perimetro(dimensoes):\n",
    "  largura, comprimento = dimensoes  \n",
    "  \n",
    "  area = largura * comprimento\n",
    "  perimetro = 2 * (largura + comprimento)\n",
    "  \n",
    "  return (area, perimetro)\n",
    "\n",
    "# --- Exemplo de uso ---\n",
    "largura = 5\n",
    "comprimento = 7\n",
    "\n",
    "dimensoes_terreno = (largura, comprimento)\n",
    "retorno = calcula_area_perimetro(dimensoes_terreno)\n",
    "\n",
    "print(f\"A área e o perímetro são, respectivamente: {retorno}\")\n",
    "print(f\"O tipo do objeto de retorno é: {type(retorno)}\")\n"
   ]
  },
  {
   "cell_type": "code",
   "execution_count": null,
   "id": "e1866c04",
   "metadata": {},
   "outputs": [],
   "source": [
    "# Complete o exemplo de uso abaixo\n",
    "largura = 5\n",
    "comprimento = 7\n",
    "\n",
    "retorno = ## complete aqui a chamada da função\n",
    "print(retorno, type(retorno))"
   ]
  },
  {
   "cell_type": "markdown",
   "id": "cbdcb986",
   "metadata": {},
   "source": [
    "### Q2.\n",
    "\n",
    "Dada uma string, imprima todas as vogais que aparecem na string, bem como todos os índices onde elas ocorrem. Para isso, use a função ```enumerate```.\n"
   ]
  },
  {
   "cell_type": "code",
   "execution_count": 2,
   "id": "1f6b1f2d",
   "metadata": {},
   "outputs": [
    {
     "name": "stdout",
     "output_type": "stream",
     "text": [
      "Vogais e seus índices na frase: 'O rato roeu a roupa da Alice'\n",
      "\n",
      "Vogal 'O' encontrada no índice 0\n",
      "Vogal 'a' encontrada no índice 3\n",
      "Vogal 'o' encontrada no índice 5\n",
      "Vogal 'o' encontrada no índice 8\n",
      "Vogal 'e' encontrada no índice 9\n",
      "Vogal 'u' encontrada no índice 10\n",
      "Vogal 'a' encontrada no índice 12\n",
      "Vogal 'o' encontrada no índice 15\n",
      "Vogal 'u' encontrada no índice 16\n",
      "Vogal 'a' encontrada no índice 18\n",
      "Vogal 'a' encontrada no índice 21\n",
      "Vogal 'A' encontrada no índice 23\n",
      "Vogal 'i' encontrada no índice 25\n",
      "Vogal 'e' encontrada no índice 27\n"
     ]
    }
   ],
   "source": [
    "frase = \"O rato roeu a roupa da Alice\"\n",
    "vogais_str = \"aeiou\"\n",
    "\n",
    "print(f\"Vogais e seus índices na frase: '{frase}'\\n\")\n",
    "\n",
    "for indice, letra in enumerate(frase):\n",
    "  if letra.lower() in vogais_str:\n",
    "    print(f\"Vogal '{letra}' encontrada no índice {indice}\")"
   ]
  },
  {
   "cell_type": "markdown",
   "id": "8d46663f",
   "metadata": {},
   "source": [
    "### Q3.\n",
    "\n",
    "Escreva uma função em Python chamada ```ordenar_tuplas``` que recebe uma lista de tuplas, cada uma contendo o nome de um aluno e sua respectiva média, e retorna uma nova lista ordenada em ordem decrescente de médias."
   ]
  },
  {
   "cell_type": "code",
   "execution_count": 3,
   "id": "469f2e6e",
   "metadata": {},
   "outputs": [
    {
     "name": "stdout",
     "output_type": "stream",
     "text": [
      "[('Charlie', 9.0), ('David', 8.8), ('Alice', 8.5), ('Bob', 7.2)]\n"
     ]
    }
   ],
   "source": [
    "def ordenar_tuplas(lista_de_tuplas):\n",
    "  return sorted(lista_de_tuplas, key=lambda item: item[1], reverse=True)\n",
    "\n",
    "# --- Exemplo de uso ---\n",
    "alunos_notas = [('Alice', 8.5), ('Bob', 7.2), ('Charlie', 9.0), ('David', 8.8)]\n",
    "resultado = ordenar_tuplas(alunos_notas)\n",
    "print(resultado)\n"
   ]
  },
  {
   "cell_type": "code",
   "execution_count": null,
   "id": "1972c62b",
   "metadata": {},
   "outputs": [],
   "source": [
    "# Exemplo de uso:\n",
    "alunos_notas = [('Alice', 8.5), ('Bob', 7.2), ('Charlie', 9.0), ('David', 8.8)]\n",
    "resultado = ordenar_tuplas(alunos_notas)\n",
    "print(resultado)\n",
    "# Saída esperada: [('Charlie', 9.0), ('David', 8.8), ('Alice', 8.5), ('Bob', 7.2)]"
   ]
  },
  {
   "cell_type": "markdown",
   "id": "e0268fae",
   "metadata": {},
   "source": [
    "### Q4.\n",
    "\n",
    "Escreva uma função em Python chamada ```comprimir_tuplas``` que recebe uma lista de tuplas, cada uma contendo uma palavra e um número, e retorna uma nova lista de tuplas onde palavras idênticas são agrupadas e seus números são somados.\n",
    "\n"
   ]
  },
  {
   "cell_type": "code",
   "execution_count": 4,
   "id": "30a221f3",
   "metadata": {},
   "outputs": [
    {
     "name": "stdout",
     "output_type": "stream",
     "text": [
      "[('maçã', 8), ('banana', 5), ('laranja', 1)]\n"
     ]
    }
   ],
   "source": [
    "def comprimir_tuplas(lista_de_tuplas):\n",
    "  somas = {} \n",
    "  \n",
    "  for palavra, numero in lista_de_tuplas:\n",
    "    somas[palavra] = somas.get(palavra, 0) + numero\n",
    "    \n",
    "  return list(somas.items())\n",
    "\n",
    "# --- Exemplo de uso ---\n",
    "tuplas_originais = [('maçã', 3), ('banana', 2), ('maçã', 5), ('laranja', 1), ('banana', 3)]\n",
    "resultado = comprimir_tuplas(tuplas_originais)\n",
    "print(resultado)\n"
   ]
  },
  {
   "cell_type": "code",
   "execution_count": null,
   "id": "80972bac",
   "metadata": {},
   "outputs": [],
   "source": [
    "# Exemplo de uso:\n",
    "tuplas_originais = [('maçã', 3), ('banana', 2), ('maçã', 5), ('laranja', 1), ('banana', 3)]\n",
    "resultado = comprimir_tuplas(tuplas_originais)\n",
    "print(resultado)\n",
    "# Saída esperada: [('maçã', 8), ('banana', 5), ('laranja', 1)]"
   ]
  },
  {
   "cell_type": "markdown",
   "id": "649a5082",
   "metadata": {},
   "source": [
    "### Q5. \n",
    "\n",
    "- Escreva um script que peça o nome e a idade de todos na fila de uma balada. Crie uma lista de tuplas com os pares ```(nome, idade)``` de cada um. \n",
    "- Em seguida crie e imprima duas tuplas apenas com os nomes, uma com os menores de idade que não poderão entrar, e uma com os maiores de idade (```idade >= 18```). \n",
    "\n"
   ]
  },
  {
   "cell_type": "code",
   "execution_count": 9,
   "id": "47cb0573",
   "metadata": {},
   "outputs": [
    {
     "name": "stdout",
     "output_type": "stream",
     "text": [
      "Digite os dados da fila (deixe o nome em branco para finalizar).\n",
      "\n",
      "--- Resultado ---\n",
      "Pessoas na fila: [('JULIO', 12), ('MARIA', 23), ('ANA', 34), ('HELENA', 54)]\n",
      "Maiores de idade que podem entrar: ('MARIA', 'ANA', 'HELENA')\n",
      "Menores de idade que não podem entrar: ('JULIO',)\n"
     ]
    }
   ],
   "source": [
    "fila = []\n",
    "\n",
    "print(\"Digite os dados da fila (deixe o nome em branco para finalizar).\")\n",
    "while True:\n",
    "    nome = input(\"Nome: \").strip()\n",
    "    if not nome:\n",
    "        break\n",
    "    \n",
    "    try:\n",
    "        idade = int(input(\"Idade: \"))\n",
    "        fila.append((nome, idade))\n",
    "    except ValueError:\n",
    "        print(\"Idade inválida. Por favor, digite um número.\")\n",
    "\n",
    "\n",
    "nomes_maiores = [nome for nome, idade in fila if idade >= 18]\n",
    "nomes_menores = [nome for nome, idade in fila if idade < 18]\n",
    "\n",
    "maiores_de_idade = tuple(nomes_maiores)\n",
    "menores_de_idade = tuple(nomes_menores)\n",
    "\n",
    "print(\"\\n--- Resultado ---\")\n",
    "print(f\"Pessoas na fila: {fila}\")\n",
    "print(f\"Maiores de idade que podem entrar: {maiores_de_idade}\")\n",
    "print(f\"Menores de idade que não podem entrar: {menores_de_idade}\")"
   ]
  }
 ],
 "metadata": {
  "kernelspec": {
   "display_name": "Python 3",
   "language": "python",
   "name": "python3"
  },
  "language_info": {
   "codemirror_mode": {
    "name": "ipython",
    "version": 3
   },
   "file_extension": ".py",
   "mimetype": "text/x-python",
   "name": "python",
   "nbconvert_exporter": "python",
   "pygments_lexer": "ipython3",
   "version": "3.13.2"
  }
 },
 "nbformat": 4,
 "nbformat_minor": 5
}
