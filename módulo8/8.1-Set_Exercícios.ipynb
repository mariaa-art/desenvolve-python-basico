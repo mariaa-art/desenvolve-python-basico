{
 "cells": [
  {
   "cell_type": "markdown",
   "id": "0d5035b5",
   "metadata": {},
   "source": [
    "# Set\n",
    "\n",
    "## Aula 8.1"
   ]
  },
  {
   "cell_type": "markdown",
   "id": "0bdece85",
   "metadata": {},
   "source": [
    "### Q1. \n",
    "\n",
    "Dada uma string qualquer, use seu conhecimento de sets para apresentar os caracteres únicos que aparecem na string, ordenados alfabeticamente e sem duplicatas. Preste atenção em duplicatas de maiúsculas e minúsculas.\n"
   ]
  },
  {
   "cell_type": "code",
   "execution_count": 1,
   "id": "0a258eba",
   "metadata": {},
   "outputs": [
    {
     "name": "stdout",
     "output_type": "stream",
     "text": [
      "Frase original: 'O rato roeu a roupa do Robson'\n",
      "Caracteres únicos e ordenados: ['a', 'b', 'd', 'e', 'n', 'o', 'p', 'r', 's', 't', 'u']\n"
     ]
    }
   ],
   "source": [
    "frase = \"O rato roeu a roupa do Robson\"\n",
    "\n",
    "frase_lower = frase.lower()\n",
    "caracteres_unicos = {letra for letra in frase_lower if letra.isalpha()}\n",
    "caracteres_ordenados = sorted(list(caracteres_unicos))\n",
    "\n",
    "print(f\"Frase original: '{frase}'\")\n",
    "print(f\"Caracteres únicos e ordenados: {caracteres_ordenados}\")\n"
   ]
  },
  {
   "cell_type": "markdown",
   "id": "0856bd56",
   "metadata": {},
   "source": [
    "### Q2\n",
    "\n",
    "Desenvolva uma função em Python chamada ```tem_elementos_comuns()``` que recebe duas listas como parâmetros e retorna True se houver algum elemento comum entre as duas listas, e False caso contrário. Utilize sets para resolver essa tarefa."
   ]
  },
  {
   "cell_type": "code",
   "execution_count": 3,
   "id": "f7ab6736",
   "metadata": {},
   "outputs": [
    {
     "name": "stdout",
     "output_type": "stream",
     "text": [
      "lista1 e lista2 têm elementos em comum? True\n",
      "lista1 e lista3 têm elementos em comum? False\n"
     ]
    }
   ],
   "source": [
    "def tem_elementos_comuns(lista1, lista2):\n",
    "\n",
    "  set1 = set(lista1)\n",
    "  set2 = set(lista2)\n",
    "\n",
    "  intersecao = set1.intersection(set2)\n",
    "  \n",
    "  return bool(intersecao)\n",
    "\n",
    "# --- Teste da função ---\n",
    "lista1 = [1, 2, 3, 4]\n",
    "lista2 = [3, 4, 5, 6, 7]\n",
    "lista3 = [10, 20, 30]\n",
    "\n",
    "resultado1 = tem_elementos_comuns(lista1, lista2)\n",
    "print(f\"lista1 e lista2 têm elementos em comum? {resultado1}\")  \n",
    "\n",
    "resultado2 = tem_elementos_comuns(lista1, lista3)\n",
    "print(f\"lista1 e lista3 têm elementos em comum? {resultado2}\") "
   ]
  },
  {
   "cell_type": "code",
   "execution_count": null,
   "id": "1022744a",
   "metadata": {},
   "outputs": [],
   "source": [
    "# Execute esta célula para testar a função da Q2.\n",
    "\n",
    "lista1 = [1, 2, 3, 4]\n",
    "lista2 = [3, 4, 5, 6, 7]\n",
    "resultado = tem_elementos_comuns(lista1, lista2)\n",
    "print(resultado)  # Saída esperada: True"
   ]
  },
  {
   "cell_type": "markdown",
   "id": "649a5082",
   "metadata": {},
   "source": [
    "### Q3. \n",
    "\n",
    "Você vai coletar de diferentes turmas de alunos seus interesses em atividades extra curriculares dentre futebol, vôlei, rugby, música, teatro, ações comunitárias. Informe o conjunto de atividades comuns a todas a turmas. Pode preencher o iterável turmas com valores arbitrários. \n"
   ]
  },
  {
   "cell_type": "code",
   "execution_count": 4,
   "id": "880a9927",
   "metadata": {},
   "outputs": [
    {
     "name": "stdout",
     "output_type": "stream",
     "text": [
      "Atividades comuns a todas as turmas: {'rugby'}\n"
     ]
    }
   ],
   "source": [
    "turmas = [\n",
    "     {'ações comunitárias', 'futebol', 'música', 'rugby'},\n",
    "     {'ações comunitárias', 'música', 'rugby', 'teatro'},\n",
    "     {'música', 'rugby', 'teatro', 'vôlei'},\n",
    "     {'música', 'vôlei', 'rugby'},\n",
    "     {'ações comunitárias', 'futebol', 'rugby', 'teatro', 'vôlei'},\n",
    "     {'ações comunitárias', 'futebol', 'rugby'},\n",
    "     {'ações comunitárias', 'rugby', 'teatro', 'vôlei'},\n",
    "     {'ações comunitárias', 'rugby', 'teatro', 'vôlei'},\n",
    "     {'ações comunitárias', 'rugby', 'vôlei'}\n",
    "]\n",
    "if not turmas:\n",
    "    atividades_comuns = set()\n",
    "else:\n",
    "    atividades_comuns = turmas[0].copy() \n",
    "    \n",
    "    for i in range(1, len(turmas)):\n",
    "        atividades_comuns.intersection_update(turmas[i])\n",
    "\n",
    "print(f\"Atividades comuns a todas as turmas: {atividades_comuns}\") "
   ]
  },
  {
   "cell_type": "markdown",
   "id": "021e2b1e",
   "metadata": {},
   "source": [
    "### Q4. \n",
    "Considere duas listas que são duplicatas uma da outra, exceto por um elemento, exemplo:\n",
    "```\n",
    "A = [1, 4, 5, 7, 9]\n",
    "B = [4, 5, 7, 9]\n",
    "```\n",
    "\n",
    "Encontre e apresente o elemento diferente, informando também qual das listas está desfalcada. Para o exemplo acima, a saída esperada é\n",
    "```\n",
    "O elemento 1 está faltando na segunda lista\n",
    "```"
   ]
  },
  {
   "cell_type": "code",
   "execution_count": 5,
   "id": "608761a4",
   "metadata": {},
   "outputs": [
    {
     "name": "stdout",
     "output_type": "stream",
     "text": [
      "O elemento 1 está faltando na segunda lista\n"
     ]
    }
   ],
   "source": [
    "A = [1, 4, 5, 7, 9]\n",
    "B = [4, 5, 7, 9]\n",
    "\n",
    "set_A = set(A)\n",
    "set_B = set(B)\n",
    "\n",
    "diferenca = set_A.symmetric_difference(set_B)\n",
    "\n",
    "if diferenca:\n",
    "    elemento_faltando = diferenca.pop()\n",
    "    \n",
    "    if elemento_faltando in A:\n",
    "        print(f\"O elemento {elemento_faltando} está faltando na segunda lista\")\n",
    "    else:\n",
    "        print(f\"O elemento {elemento_faltando} está faltando na primeira lista\")\n",
    "else:\n",
    "    print(\"As listas são idênticas.\")"
   ]
  },
  {
   "cell_type": "markdown",
   "id": "ddf180c1",
   "metadata": {},
   "source": [
    "### Q5.\n",
    "\n",
    "Panagramas são frases que contém todas as letras do alfabeto pelo menos uma vez. Crie uma função ```checa_panagrama``` que recebe uma string e retorna ```True``` caso seja um panagrama ou ```False```caso contrário. Use seu conhecimento de sets para solucionar essa questão.\n",
    "\n",
    "Ex: \n",
    "```\n",
    "Entrada: \"The quick brown fox jumps over the lazy dog\" \n",
    "Saída: É um panagrama\n",
    "```\n",
    "\n",
    "```\n",
    "Entrada: \"Python é uma linguagem de programação\" \n",
    "Saída: Não é um panagrama\n",
    "```"
   ]
  },
  {
   "cell_type": "code",
   "execution_count": 6,
   "id": "4e8b0390",
   "metadata": {},
   "outputs": [
    {
     "name": "stdout",
     "output_type": "stream",
     "text": [
      "Entrada: \"The quick brown fox jumps over the lazy dog\"\n",
      "Saída: É um panagrama\n",
      "--------------------\n",
      "Entrada: \"Python é uma linguagem de programação\"\n",
      "Saída: Não é um panagrama\n"
     ]
    }
   ],
   "source": [
    "import string\n",
    "\n",
    "def checa_panagrama(frase):\n",
    "  alfabeto = set(string.ascii_lowercase)\n",
    "  letras_na_frase = {letra for letra in frase.lower() if letra.isalpha()}\n",
    "  \n",
    "  return letras_na_frase.issuperset(alfabeto)\n",
    "\n",
    "# --- Testes da função ---\n",
    "frase1 = \"The quick brown fox jumps over the lazy dog\"\n",
    "frase2 = \"Python é uma linguagem de programação\"\n",
    "\n",
    "if checa_panagrama(frase1):\n",
    "    print(f'Entrada: \"{frase1}\"\\nSaída: É um panagrama')\n",
    "else:\n",
    "    print(f'Entrada: \"{frase1}\"\\nSaída: Não é um panagrama')\n",
    "\n",
    "print(\"-\" * 20)\n",
    "\n",
    "if checa_panagrama(frase2):\n",
    "    print(f'Entrada: \"{frase2}\"\\nSaída: É um panagrama')\n",
    "else:\n",
    "    print(f'Entrada: \"{frase2}\"\\nSaída: Não é um panagrama')"
   ]
  }
 ],
 "metadata": {
  "kernelspec": {
   "display_name": "Python 3",
   "language": "python",
   "name": "python3"
  },
  "language_info": {
   "codemirror_mode": {
    "name": "ipython",
    "version": 3
   },
   "file_extension": ".py",
   "mimetype": "text/x-python",
   "name": "python",
   "nbconvert_exporter": "python",
   "pygments_lexer": "ipython3",
   "version": "3.13.2"
  }
 },
 "nbformat": 4,
 "nbformat_minor": 5
}
