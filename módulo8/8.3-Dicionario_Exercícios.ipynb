{
 "cells": [
  {
   "cell_type": "markdown",
   "id": "0d5035b5",
   "metadata": {},
   "source": [
    "# Dicionários\n",
    "\n",
    "## Aula 8.3"
   ]
  },
  {
   "cell_type": "markdown",
   "id": "0bdece85",
   "metadata": {},
   "source": [
    "### Q1. \n",
    "\n",
    "Escreva uma função em Python chamada ```contagem_caracteres``` que recebe uma string como parâmetro e retorna um dicionário onde as chaves são os caracteres presentes na string e os valores são a contagem de cada caractere.\n"
   ]
  },
  {
   "cell_type": "code",
   "execution_count": 1,
   "id": "09a9845d",
   "metadata": {},
   "outputs": [
    {
     "name": "stdout",
     "output_type": "stream",
     "text": [
      "{'p': 2, 'y': 1, 't': 1, 'h': 1, 'o': 2, 'n': 2, ' ': 1, 'r': 2, 'g': 2, 'a': 1, 'm': 2, 'i': 1}\n"
     ]
    }
   ],
   "source": [
    "def contagem_caracteres(s):\n",
    "  contagem = {}\n",
    "  for caractere in s:\n",
    "    contagem[caractere] = contagem.get(caractere, 0) + 1\n",
    "  return contagem\n",
    "\n",
    "# --- Exemplo de uso ---\n",
    "frase = \"python programming\"\n",
    "resultado = contagem_caracteres(frase)\n",
    "print(resultado)\n"
   ]
  },
  {
   "cell_type": "code",
   "execution_count": null,
   "id": "0a258eba",
   "metadata": {},
   "outputs": [],
   "source": [
    "# Exemplo de uso:\n",
    "frase = \"python programming\"\n",
    "resultado = contagem_caracteres(frase)\n",
    "print(resultado)"
   ]
  },
  {
   "cell_type": "markdown",
   "id": "649a5082",
   "metadata": {},
   "source": [
    "### Q2. \n",
    "\n",
    "Baixe o arquivo contendo o roteiro do filme brasileiro \"Estômago\" e salve em seu computador com o nome \"estomago.txt\".\n",
    "\n",
    "https://aplauso.imprensaoficial.com.br/edicoes/12.0.813.502/12.0.813.502.txt\n",
    "\n",
    "- Escreva um script python que abre o arquivo de texto e cria um dicionário contando a quantidade de vezes que cada palavra aparece no texto.\n",
    "- Em seguida ordene o dicionário de forma decrescente pelos valores. Dessa maneira ele irá apresentar as palavras mais frequentes no início.\n",
    "- Apresente na tela o dicionário ordenado\n"
   ]
  },
  {
   "cell_type": "code",
   "execution_count": 3,
   "id": "47cb0573",
   "metadata": {},
   "outputs": [
    {
     "name": "stdout",
     "output_type": "stream",
     "text": [
      "Frequência de palavras no texto (ordenado):\n",
      "'de': 1274\n",
      "'e': 962\n",
      "'o': 889\n",
      "'a': 750\n",
      "'nonato': 668\n",
      "'que': 661\n",
      "'um': 477\n",
      "'do': 404\n",
      "'é': 347\n",
      "'com': 330\n",
      "'não': 297\n",
      "'da': 292\n",
      "'uma': 288\n",
      "'no': 243\n",
      "'na': 235\n",
      "'em': 235\n",
      "'se': 227\n",
      "'para': 222\n",
      "'–': 211\n",
      "'os': 188\n",
      "'giovanni': 158\n",
      "'mas': 153\n",
      "'íria': 144\n",
      "'eu': 132\n",
      "'bujiú': 123\n",
      "'as': 121\n",
      "'por': 120\n",
      "'cozinha': 109\n",
      "'tem': 104\n",
      "'mais': 102\n",
      "'ele': 101\n",
      "'zulmiro': 99\n",
      "'pra': 98\n",
      "'ao': 97\n",
      "'como': 96\n",
      "'seu': 96\n",
      "'tá': 91\n",
      "'está': 84\n",
      "'você': 83\n",
      "'bem': 80\n",
      "'vai': 79\n",
      "'foi': 78\n",
      "'cena': 75\n",
      "'aqui': 74\n",
      "'dos': 72\n",
      "'faz': 70\n",
      "'dia': 69\n",
      "'cela': 68\n",
      "'roteiro': 67\n",
      "'filme': 67\n"
     ]
    }
   ],
   "source": [
    "import string\n",
    "\n",
    "try:\n",
    "    with open(\"estomago.txt\", \"r\", encoding=\"utf-8\") as f:\n",
    "        texto = f.read()\n",
    "\n",
    "    texto = texto.lower()\n",
    "    tabela_pontuacao = str.maketrans('', '', string.punctuation)\n",
    "    texto_limpo = texto.translate(tabela_pontuacao)\n",
    "\n",
    "    palavras = texto_limpo.split()\n",
    "\n",
    "    frequencia_palavras = {}\n",
    "    for palavra in palavras:\n",
    "        frequencia_palavras[palavra] = frequencia_palavras.get(palavra, 0) + 1\n",
    "\n",
    "    dicionario_ordenado = sorted(frequencia_palavras.items(), key=lambda item: item[1], reverse=True)\n",
    "\n",
    "    print(\"Frequência de palavras no texto (ordenado):\")\n",
    "    for palavra, contagem in dicionario_ordenado[:50]: \n",
    "        print(f\"'{palavra}': {contagem}\")\n",
    "\n",
    "except FileNotFoundError:\n",
    "    print(\"Erro: O arquivo 'estomago.txt' não foi encontrado.\")\n",
    "    print(\"Por favor, baixe o arquivo e salve-o na mesma pasta deste script.\")"
   ]
  },
  {
   "cell_type": "markdown",
   "id": "bb62d219",
   "metadata": {},
   "source": [
    "### Q3. \n",
    "\n",
    "Crie uma função chamada ```mesclar_dicionarios``` que recebe dois dicionários como parâmetros e retorna um novo dicionário contendo a fusão dos dois. Se houver chaves comuns, o maior valor deve prevalecer."
   ]
  },
  {
   "cell_type": "code",
   "execution_count": 4,
   "id": "f4363612",
   "metadata": {},
   "outputs": [
    {
     "name": "stdout",
     "output_type": "stream",
     "text": [
      "{'a': 1, 'b': 4, 'c': 3, 'd': 5}\n"
     ]
    }
   ],
   "source": [
    "def mesclar_dicionarios(d1, d2):\n",
    "  resultado = d1.copy() \n",
    "  \n",
    "  for chave, valor in d2.items():\n",
    "    if chave in resultado:\n",
    "      resultado[chave] = max(resultado[chave], valor)\n",
    "    else:\n",
    "      resultado[chave] = valor\n",
    "      \n",
    "  return resultado\n",
    "\n",
    "# --- Exemplo de uso ---\n",
    "dicionario1 = {'a': 1, 'b': 2, 'c': 3}\n",
    "dicionario2 = {'b': 4, 'd': 5}\n",
    "resultado = mesclar_dicionarios(dicionario1, dicionario2)\n",
    "print(resultado)\n"
   ]
  },
  {
   "cell_type": "code",
   "execution_count": null,
   "id": "add41556",
   "metadata": {},
   "outputs": [],
   "source": [
    "# Exemplo de uso:\n",
    "dicionario1 = {'a': 1, 'b': 2, 'c': 3}\n",
    "dicionario2 = {'b': 4, 'd': 5}\n",
    "resultado = mesclar_dicionarios(dicionario1, dicionario2)\n",
    "print(resultado)\n",
    "# Saída esperada: {'a': 1, 'b': 4, 'c': 3, 'd': 5}"
   ]
  },
  {
   "cell_type": "markdown",
   "id": "8710b1a7",
   "metadata": {},
   "source": [
    "### Q4.\n",
    "\n",
    "Desenvolva uma função em Python chamada ```filtrar_dicionario``` que recebe um dicionário e uma lista de chaves como parâmetros e retorna um novo dicionário contendo apenas as chaves que estão presentes na lista."
   ]
  },
  {
   "cell_type": "code",
   "execution_count": 5,
   "id": "0b7ee921",
   "metadata": {},
   "outputs": [
    {
     "name": "stdout",
     "output_type": "stream",
     "text": [
      "{'a': 1, 'c': 3, 'e': 5}\n"
     ]
    }
   ],
   "source": [
    "def filtrar_dicionario(dicionario, chaves_para_manter):\n",
    "  \n",
    "  return {chave: valor for chave, valor in dicionario.items() if chave in chaves_para_manter}\n",
    "\n",
    "# --- Exemplo de uso ---\n",
    "dados = {'a': 1, 'b': 2, 'c': 3, 'd': 4, 'e': 5}\n",
    "chaves_filtradas = ['a', 'c', 'e']\n",
    "resultado = filtrar_dicionario(dados, chaves_filtradas)\n",
    "print(resultado)\n"
   ]
  },
  {
   "cell_type": "code",
   "execution_count": null,
   "id": "ebc131f6",
   "metadata": {},
   "outputs": [],
   "source": [
    "# Exemplo de uso:\n",
    "dados = {'a': 1, 'b': 2, 'c': 3, 'd': 4, 'e': 5}\n",
    "chaves_filtradas = ['a', 'c', 'e']\n",
    "resultado = filtrar_dicionario(dados, chaves_filtradas)\n",
    "print(resultado)\n",
    "# Saída esperada: {'a': 1, 'c': 3, 'e': 5}"
   ]
  },
  {
   "cell_type": "markdown",
   "id": "3203c51e",
   "metadata": {},
   "source": [
    "### Q5.\n",
    "\n",
    "Você está responsável por analisar os resultados de uma votação. Cada voto é representado por um dicionário com o nome do candidato e a quantidade de votos que recebeu em uma determinada sessão eleitoral. Escreva uma função chamada ```resultado_votacao``` que recebe uma lista de dicionários de votos e retorna um dicionário onde as chaves são os nomes dos candidatos, e os valores são tuplas ```(total, percentual)``` com o total de votos recebidos por cada candidato e o percentual em relação à soma total de votos em todos os candidatos. "
   ]
  },
  {
   "cell_type": "code",
   "execution_count": 6,
   "id": "2c856eee",
   "metadata": {},
   "outputs": [
    {
     "name": "stdout",
     "output_type": "stream",
     "text": [
      "{'candidato_A': (360, 40.31), 'candidato_B': (258, 28.89), 'candidato_C': (275, 30.8)}\n"
     ]
    }
   ],
   "source": [
    "def resultado_votacao(lista_de_votos):\n",
    "    totais_por_candidato = {}\n",
    "    total_geral_votos = 0\n",
    "\n",
    "    for sessao in lista_de_votos:\n",
    "        for candidato, votos in sessao.items():\n",
    "            totais_por_candidato[candidato] = totais_por_candidato.get(candidato, 0) + votos\n",
    "            total_geral_votos += votos\n",
    "    \n",
    "    resultado_final = {}\n",
    "    if total_geral_votos > 0: \n",
    "        for candidato, total_votos in totais_por_candidato.items():\n",
    "            percentual = (total_votos / total_geral_votos) * 100\n",
    "            resultado_final[candidato] = (total_votos, round(percentual, 2))\n",
    "            \n",
    "    return resultado_final\n",
    "\n",
    "# --- Exemplo de uso ---\n",
    "votos = [\n",
    "    {'candidato_A': 120, 'candidato_B': 85, 'candidato_C': 90},\n",
    "    {'candidato_A': 110, 'candidato_B': 95, 'candidato_C': 80},\n",
    "    {'candidato_A': 130, 'candidato_B': 78, 'candidato_C': 105},\n",
    "]\n",
    "resultado = resultado_votacao(votos)\n",
    "print(resultado)\n"
   ]
  },
  {
   "cell_type": "code",
   "execution_count": null,
   "id": "ff2044de",
   "metadata": {},
   "outputs": [],
   "source": [
    "# Exemplo de uso:\n",
    "votos = [\n",
    "    {'candidato_A': 120, 'candidato_B': 85, 'candidato_C': 90},\n",
    "    {'candidato_A': 110, 'candidato_B': 95, 'candidato_C': 80},\n",
    "    {'candidato_A': 130, 'candidato_B': 78, 'candidato_C': 105},\n",
    "]\n",
    "resultado = resultado_votacao(votos)\n",
    "print(resultado)  # Saída esperada: {'candidato_A': (360, 40.31), 'candidato_B': (258, 28.89), \n",
    "                                ###  'candidato_C': (275, 30.79)}"
   ]
  }
 ],
 "metadata": {
  "kernelspec": {
   "display_name": "Python 3",
   "language": "python",
   "name": "python3"
  },
  "language_info": {
   "codemirror_mode": {
    "name": "ipython",
    "version": 3
   },
   "file_extension": ".py",
   "mimetype": "text/x-python",
   "name": "python",
   "nbconvert_exporter": "python",
   "pygments_lexer": "ipython3",
   "version": "3.13.2"
  }
 },
 "nbformat": 4,
 "nbformat_minor": 5
}
